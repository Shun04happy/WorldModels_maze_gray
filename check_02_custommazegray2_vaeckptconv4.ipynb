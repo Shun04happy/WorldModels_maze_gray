{
 "cells": [
  {
   "cell_type": "code",
   "execution_count": 321,
   "metadata": {},
   "outputs": [],
   "source": [
    "import numpy as np\n"
   ]
  },
  {
   "cell_type": "code",
   "execution_count": 322,
   "metadata": {},
   "outputs": [],
   "source": [
    "# %conda install -y ipywidgets"
   ]
  },
  {
   "cell_type": "code",
   "execution_count": 323,
   "metadata": {},
   "outputs": [
    {
     "name": "stdout",
     "output_type": "stream",
     "text": [
      "The autoreload extension is already loaded. To reload it, use:\n",
      "  %reload_ext autoreload\n"
     ]
    }
   ],
   "source": [
    "%load_ext autoreload\n",
    "%autoreload 2"
   ]
  },
  {
   "cell_type": "code",
   "execution_count": 324,
   "metadata": {},
   "outputs": [],
   "source": [
    "import numpy as np\n",
    "from vae.arch_custommazelightk3conv4 import VAE\n",
    "import matplotlib.pyplot as plt\n",
    "import os\n",
    "from IPython import display\n",
    "from ipywidgets import interact, interactive, fixed, interact_manual, FloatSlider\n",
    "import ipywidgets as widgets\n",
    "from tensorflow.keras.utils import plot_model\n",
    "\n",
    "np.set_printoptions(precision=4, suppress = True)"
   ]
  },
  {
   "cell_type": "code",
   "execution_count": 325,
   "metadata": {},
   "outputs": [
    {
     "name": "stdout",
     "output_type": "stream",
     "text": [
      "Model: \"encoder\"\n",
      "__________________________________________________________________________________________________\n",
      "Layer (type)                    Output Shape         Param #     Connected to                     \n",
      "==================================================================================================\n",
      "observation_input (InputLayer)  [(None, 80, 80, 1)]  0                                            \n",
      "__________________________________________________________________________________________________\n",
      "conv_layer_1 (Conv2D)           (None, 40, 40, 3)    30          observation_input[0][0]          \n",
      "__________________________________________________________________________________________________\n",
      "conv_layer_2 (Conv2D)           (None, 20, 20, 32)   896         conv_layer_1[0][0]               \n",
      "__________________________________________________________________________________________________\n",
      "conv_layer_3 (Conv2D)           (None, 10, 10, 64)   18496       conv_layer_2[0][0]               \n",
      "__________________________________________________________________________________________________\n",
      "conv_layer_4 (Conv2D)           (None, 5, 5, 64)     36928       conv_layer_3[0][0]               \n",
      "__________________________________________________________________________________________________\n",
      "flatten_35 (Flatten)            (None, 1600)         0           conv_layer_4[0][0]               \n",
      "__________________________________________________________________________________________________\n",
      "mu (Dense)                      (None, 32)           51232       flatten_35[0][0]                 \n",
      "__________________________________________________________________________________________________\n",
      "log_var (Dense)                 (None, 32)           51232       flatten_35[0][0]                 \n",
      "__________________________________________________________________________________________________\n",
      "z (Sampling)                    (None, 32)           0           mu[0][0]                         \n",
      "                                                                 log_var[0][0]                    \n",
      "==================================================================================================\n",
      "Total params: 158,814\n",
      "Trainable params: 158,814\n",
      "Non-trainable params: 0\n",
      "__________________________________________________________________________________________________\n",
      "Model: \"decoder\"\n",
      "_________________________________________________________________\n",
      "Layer (type)                 Output Shape              Param #   \n",
      "=================================================================\n",
      "z_input (InputLayer)         [(None, 32)]              0         \n",
      "_________________________________________________________________\n",
      "dense_layer (Dense)          (None, 1600)              52800     \n",
      "_________________________________________________________________\n",
      "unflatten (Reshape)          (None, 5, 5, 64)          0         \n",
      "_________________________________________________________________\n",
      "deconv_layer_1 (Conv2DTransp (None, 10, 10, 64)        36928     \n",
      "_________________________________________________________________\n",
      "deconv_layer_2 (Conv2DTransp (None, 20, 20, 32)        18464     \n",
      "_________________________________________________________________\n",
      "deconv_layer_3 (Conv2DTransp (None, 40, 40, 3)         867       \n",
      "_________________________________________________________________\n",
      "deconv_layer_4 (Conv2DTransp (None, 80, 80, 1)         28        \n",
      "=================================================================\n",
      "Total params: 109,087\n",
      "Trainable params: 109,087\n",
      "Non-trainable params: 0\n",
      "_________________________________________________________________\n"
     ]
    },
    {
     "name": "stderr",
     "output_type": "stream",
     "text": [
      "/home/shun/miniconda3/envs/env_GDL4/lib/python3.6/site-packages/tensorflow/python/keras/optimizer_v2/optimizer_v2.py:375: UserWarning: The `lr` argument is deprecated, use `learning_rate` instead.\n",
      "  \"The `lr` argument is deprecated, use `learning_rate` instead.\")\n"
     ]
    }
   ],
   "source": [
    "# vae1 = VAE()\n",
    "# vae1.set_weights('./vae/weights_custommaze10000.1.ckpt')\n",
    "from vae.arch_custommazegray2z32k3conv4 import VAE\n",
    "vae1 = VAE()\n",
    "vae1.set_weights('./vae/vae_weights/weights_custommaze_gray25000.5z32k3conv3r100000.ckpt')\n",
    "#conv3って書いてあるけどconv4"
   ]
  },
  {
   "cell_type": "code",
   "execution_count": 326,
   "metadata": {},
   "outputs": [],
   "source": [
    "# from tensorflow.keras.models import Model"
   ]
  },
  {
   "cell_type": "code",
   "execution_count": null,
   "metadata": {},
   "outputs": [],
   "source": []
  },
  {
   "cell_type": "code",
   "execution_count": 327,
   "metadata": {},
   "outputs": [],
   "source": [
    "# vae=load_model('./vae/')"
   ]
  },
  {
   "cell_type": "code",
   "execution_count": 328,
   "metadata": {},
   "outputs": [
    {
     "name": "stdout",
     "output_type": "stream",
     "text": [
      "1618366556.npz\n",
      "(1000, 80, 80, 1)\n"
     ]
    }
   ],
   "source": [
    "DIR_NAME = './data/custom2dmaze_gray2/'\n",
    "file = os.listdir(DIR_NAME)[5]\n",
    "print(file)\n",
    "obs_data = np.load(DIR_NAME + file)['obs']\n",
    "print(obs_data.shape)"
   ]
  },
  {
   "cell_type": "code",
   "execution_count": 329,
   "metadata": {},
   "outputs": [],
   "source": [
    "# file = os.listdir(DIR_NAME)[20]#あるエピソード取り出す\n",
    "# obs_data3 = np.load(DIR_NAME + file)['obs']#あるエピソードの観測データを取り出す(300,64,64,3)\n",
    "\n",
    "# fig_width = 14  # Adjust this value as needed\n",
    "# fig_height = 7  # Adjust this value as needed\n",
    "\n",
    "# # Initialize the figure with the desired size\n",
    "# plt.figure(figsize=(fig_width, fig_height))\n",
    "# for idx in range(500,900,1):\n",
    "#     plt.gca().cla() \n",
    "    \n",
    "#     obs = obs_data3[idx]\n",
    "#     z_decoded1 = vae1.full_model.predict(np.array([obs]))[0]\n",
    "#     # z_decoded1を保存するファイル名\n",
    "#     # save_file = f'./vae/decoded1/z_decoded1_data{idx}.npz'\n",
    "#     # z_decoded1をNumPyの配列に変換\n",
    "#     # z_decoded1_array = np.array(z_decoded1)\n",
    "#     # # z_decoded1をnpz形式で保存\n",
    "#     # np.savez(save_file, z_decoded1_array=z_decoded1_array)\n",
    "#     plt.subplot(121)\n",
    "#     plt.imshow( obs[:,:,0])\n",
    "#     plt.subplot(122)\n",
    "#     plt.imshow( z_decoded1[:,:,0])\n",
    "    \n",
    "# #     plt.show()\n",
    "#     display.clear_output(wait=True)\n",
    "#     display.display(plt.gcf()) \n",
    "#     print(idx)\n",
    "    "
   ]
  },
  {
   "cell_type": "code",
   "execution_count": 330,
   "metadata": {},
   "outputs": [],
   "source": [
    "# filelist = os.listdir(DIR_NAME)\n",
    "# filelist = [x for x in filelist if x != '.DS_Store']\n",
    "# filelist.sort()"
   ]
  },
  {
   "cell_type": "code",
   "execution_count": 331,
   "metadata": {},
   "outputs": [],
   "source": [
    "# %conda install -y graphviz"
   ]
  },
  {
   "cell_type": "code",
   "execution_count": 332,
   "metadata": {},
   "outputs": [],
   "source": [
    "# plot_model(vae.encoder, to_file='./vae/encoder.png', show_shapes=True)\n",
    "# plot_model(vae.decoder, to_file='./vae/decoder.png', show_shapes=True)\n"
   ]
  },
  {
   "cell_type": "code",
   "execution_count": 333,
   "metadata": {},
   "outputs": [],
   "source": [
    "# plot_model(vae.encoder, to_file='./vae/encoder.png', show_shapes=True)"
   ]
  },
  {
   "cell_type": "code",
   "execution_count": 334,
   "metadata": {},
   "outputs": [],
   "source": [
    "# vae1 = VAE()\n",
    "# vae1.set_weights('./vae/weights_custommaze10000.1.ckpt')"
   ]
  },
  {
   "cell_type": "code",
   "execution_count": 335,
   "metadata": {},
   "outputs": [
    {
     "data": {
      "text/plain": [
       "array([[[0.],\n",
       "        [0.],\n",
       "        [0.],\n",
       "        ...,\n",
       "        [0.],\n",
       "        [0.],\n",
       "        [0.]],\n",
       "\n",
       "       [[0.],\n",
       "        [0.],\n",
       "        [0.],\n",
       "        ...,\n",
       "        [0.],\n",
       "        [0.],\n",
       "        [0.]],\n",
       "\n",
       "       [[0.],\n",
       "        [0.],\n",
       "        [0.],\n",
       "        ...,\n",
       "        [0.],\n",
       "        [0.],\n",
       "        [0.]],\n",
       "\n",
       "       ...,\n",
       "\n",
       "       [[0.],\n",
       "        [0.],\n",
       "        [0.],\n",
       "        ...,\n",
       "        [0.],\n",
       "        [0.],\n",
       "        [0.]],\n",
       "\n",
       "       [[0.],\n",
       "        [0.],\n",
       "        [0.],\n",
       "        ...,\n",
       "        [0.],\n",
       "        [0.],\n",
       "        [0.]],\n",
       "\n",
       "       [[0.],\n",
       "        [0.],\n",
       "        [0.],\n",
       "        ...,\n",
       "        [0.],\n",
       "        [0.],\n",
       "        [0.]]], dtype=float32)"
      ]
     },
     "execution_count": 335,
     "metadata": {},
     "output_type": "execute_result"
    }
   ],
   "source": [
    "file = os.listdir(DIR_NAME)[1]#あるエピソード取り出す\n",
    "\n",
    "obs_data3 = np.load(DIR_NAME + file)['obs']#あるエピソードの観測データを取り出す(300,64,64,3)\n",
    "obs = obs_data3[90]#あるエピソードの１時間ステップの観測データを取り出す(1,64,64,3)\n",
    "obs"
   ]
  },
  {
   "cell_type": "code",
   "execution_count": 336,
   "metadata": {},
   "outputs": [
    {
     "data": {
      "image/png": "[encoded data removed]",
      "text/plain": [
       "<Figure size 432x288 with 2 Axes>"
      ]
     },
     "metadata": {},
     "output_type": "display_data"
    },
    {
     "data": {
      "image/png": "[encoded data removed]",
      "text/plain": [
       "<Figure size 432x288 with 2 Axes>"
      ]
     },
     "metadata": {
      "needs_background": "light"
     },
     "output_type": "display_data"
    }
   ],
   "source": [
    "from vae.arch_custommazegray2z32k3conv4 import VAE\n",
    "vae1 = VAE()\n",
    "vae1.set_weights('./vae/vae_weights/weights_custommaze_gray25000.5z32k3conv3r100000.ckpt')\n",
    "#conv3って書いてあるけどconv4\n",
    "file = os.listdir(DIR_NAME)[990]#あるエピソード取り出す\n",
    "\n",
    "obs_data3 = np.load(DIR_NAME + file)['obs']#あるエピソードの観測データを取り出す(300,64,64,3)\n",
    "obs = obs_data3[884]#あるエピソードの１時間ステップの観測データを取り出す(1,64,64,3)\n",
    "print(obs.shape)\n",
    "z_decoded1 = vae1.full_model.predict(np.array([obs]))[0]\n",
    "print(z_decoded1.shape)\n",
    "plt.subplot(121)\n",
    "plt.imshow( obs[:,:,0],cmap='gray')\n",
    "plt.subplot(122)\n",
    "plt.imshow( z_decoded1[:,:,0],cmap='gray')\n",
    "    \n",
    "#     plt.show()\n",
    "display.clear_output(wait=True)\n",
    "display.display(plt.gcf()) \n"
   ]
  },
  {
   "cell_type": "code",
   "execution_count": 337,
   "metadata": {},
   "outputs": [
    {
     "name": "stdout",
     "output_type": "stream",
     "text": [
      "(80, 80, 1)\n"
     ]
    }
   ],
   "source": [
    "print(z_decoded1.shape)"
   ]
  },
  {
   "cell_type": "code",
   "execution_count": 338,
   "metadata": {},
   "outputs": [],
   "source": [
    "# vae2 = VAE()\n",
    "# vae2.set_weights('./vae/weights1.1rand3.ckpt')"
   ]
  },
  {
   "cell_type": "code",
   "execution_count": 339,
   "metadata": {},
   "outputs": [
    {
     "data": {
      "text/plain": [
       "(1, 80, 80, 1)"
      ]
     },
     "execution_count": 339,
     "metadata": {},
     "output_type": "execute_result"
    }
   ],
   "source": [
    "np.array([obs]).shape"
   ]
  },
  {
   "cell_type": "code",
   "execution_count": 340,
   "metadata": {},
   "outputs": [
    {
     "data": {
      "image/png": "[encoded data removed]",
      "text/plain": [
       "<Figure size 432x288 with 2 Axes>"
      ]
     },
     "metadata": {},
     "output_type": "display_data"
    },
    {
     "data": {
      "image/png": "[encoded data removed]",
      "text/plain": [
       "<Figure size 432x288 with 2 Axes>"
      ]
     },
     "metadata": {
      "needs_background": "light"
     },
     "output_type": "display_data"
    }
   ],
   "source": [
    "file = os.listdir(DIR_NAME)[19]#あるエピソード取り出す\n",
    "\n",
    "obs_data3 = np.load(DIR_NAME + file)['obs']#あるエピソードの観測データを取り出す(300,64,64,3)\n",
    "obs = obs_data3[90]#あるエピソードの１時間ステップの観測データを取り出す(1,64,64,3)\n",
    "\n",
    "z_decoded1 = vae1.full_model.predict(np.array([obs]))[0]\n",
    "plt.subplot(121)\n",
    "plt.imshow( obs[:,:,0])\n",
    "plt.subplot(122)\n",
    "plt.imshow( z_decoded1[:,:,0])\n",
    "    \n",
    "#     plt.show()\n",
    "display.clear_output(wait=True)\n",
    "display.display(plt.gcf()) \n"
   ]
  },
  {
   "cell_type": "code",
   "execution_count": 341,
   "metadata": {},
   "outputs": [],
   "source": [
    "# vae3 = VAE()\n",
    "# vae3.set_weights('./vae/weights1.1rand3.ckpt')"
   ]
  },
  {
   "cell_type": "code",
   "execution_count": 342,
   "metadata": {},
   "outputs": [
    {
     "data": {
      "image/png": "[encoded data removed]",
      "text/plain": [
       "<Figure size 432x288 with 2 Axes>"
      ]
     },
     "metadata": {},
     "output_type": "display_data"
    },
    {
     "data": {
      "image/png": "[encoded data removed]",
      "text/plain": [
       "<Figure size 432x288 with 2 Axes>"
      ]
     },
     "metadata": {
      "needs_background": "light"
     },
     "output_type": "display_data"
    }
   ],
   "source": [
    "\n",
    "obs = obs_data3[0]\n",
    "z_decoded = vae1.full_model.predict(np.array([obs]))[0]\n",
    "    \n",
    "plt.subplot(121)\n",
    "plt.imshow( obs[:,:,0])\n",
    "plt.subplot(122)\n",
    "plt.imshow( z_decoded[:,:,0])\n",
    "    \n",
    "#     plt.show()\n",
    "display.clear_output(wait=True)\n",
    "display.display(plt.gcf()) "
   ]
  },
  {
   "cell_type": "code",
   "execution_count": 343,
   "metadata": {},
   "outputs": [],
   "source": [
    "# vae3 = VAE()\n",
    "# vae3.set_weights('./vae/weights200.20804.h5')"
   ]
  },
  {
   "cell_type": "code",
   "execution_count": 344,
   "metadata": {},
   "outputs": [
    {
     "data": {
      "image/png": "[encoded data removed]",
      "text/plain": [
       "<Figure size 432x288 with 2 Axes>"
      ]
     },
     "metadata": {},
     "output_type": "display_data"
    },
    {
     "data": {
      "image/png": "[encoded data removed]",
      "text/plain": [
       "<Figure size 432x288 with 2 Axes>"
      ]
     },
     "metadata": {
      "needs_background": "light"
     },
     "output_type": "display_data"
    }
   ],
   "source": [
    "from vae.arch_custommazegray2z32k3conv4 import VAE\n",
    "vae1 = VAE()\n",
    "vae1.set_weights('./vae/vae_weights/weights_custommaze_gray25000.5z32k3conv3r100000.ckpt')\n",
    "#conv3って書いてあるけどconv4\n",
    "file = os.listdir(DIR_NAME)[60]#あるエピソード取り出す\n",
    "\n",
    "obs_data3 = np.load(DIR_NAME + file)['obs']#あるエピソードの観測データを取り出す(300,64,64,3)\n",
    "obs = obs_data3[178]#あるエピソードの１時間ステップの観測データを取り出す(1,64,64,3)\n",
    "\n",
    "z_decoded3 = vae1.full_model.predict(np.array([obs]))[0]\n",
    "    \n",
    "plt.subplot(121)\n",
    "plt.imshow( obs[:,:,0],cmap='gray')\n",
    "plt.subplot(122)\n",
    "plt.imshow( z_decoded3[:,:,0],cmap='gray')\n",
    "    \n",
    "#     plt.show()\n",
    "display.clear_output(wait=True)\n",
    "display.display(plt.gcf()) \n"
   ]
  },
  {
   "cell_type": "code",
   "execution_count": 345,
   "metadata": {},
   "outputs": [
    {
     "data": {
      "image/png": "[encoded data removed]",
      "text/plain": [
       "<Figure size 432x288 with 2 Axes>"
      ]
     },
     "metadata": {},
     "output_type": "display_data"
    },
    {
     "data": {
      "image/png": "[encoded data removed]",
      "text/plain": [
       "<Figure size 432x288 with 2 Axes>"
      ]
     },
     "metadata": {
      "needs_background": "light"
     },
     "output_type": "display_data"
    }
   ],
   "source": [
    "\n",
    "file = os.listdir(DIR_NAME)[20]#あるエピソード取り出す\n",
    "\n",
    "obs_data3 = np.load(DIR_NAME + file)['obs']#あるエピソードの観測データを取り出す(300,64,64,3)\n",
    "obs = obs_data3[364]#あるエピソードの１時間ステップの観測データを取り出す(1,64,64,3)\n",
    "print(obs.shape)\n",
    "z_decoded1 = vae1.full_model.predict(np.array([obs]))[0]\n",
    "print(z_decoded1.shape)\n",
    "plt.subplot(121)\n",
    "plt.imshow( obs[:,:,0],cmap='gray')\n",
    "plt.subplot(122)\n",
    "plt.imshow( z_decoded1[:,:,0],cmap='gray')\n",
    "    \n",
    "#     plt.show()\n",
    "display.clear_output(wait=True)\n",
    "display.display(plt.gcf()) \n"
   ]
  },
  {
   "cell_type": "code",
   "execution_count": 346,
   "metadata": {},
   "outputs": [
    {
     "data": {
      "image/png": "[encoded data removed]",
      "text/plain": [
       "<Figure size 432x288 with 2 Axes>"
      ]
     },
     "metadata": {},
     "output_type": "display_data"
    },
    {
     "data": {
      "image/png": "[encoded data removed]",
      "text/plain": [
       "<Figure size 432x288 with 2 Axes>"
      ]
     },
     "metadata": {
      "needs_background": "light"
     },
     "output_type": "display_data"
    }
   ],
   "source": [
    "\n",
    "file = os.listdir(DIR_NAME)[60]#あるエピソード取り出す\n",
    "\n",
    "obs_data3 = np.load(DIR_NAME + file)['obs']#あるエピソードの観測データを取り出す(300,64,64,3)\n",
    "obs = obs_data3[178]#あるエピソードの１時間ステップの観測データを取り出す(1,64,64,3)\n",
    "\n",
    "z_decoded3 = vae1.full_model.predict(np.array([obs]))[0]\n",
    "    \n",
    "plt.subplot(121)\n",
    "plt.imshow( obs[:,:,0],cmap='gray')\n",
    "plt.subplot(122)\n",
    "plt.imshow( z_decoded3[:,:,0],cmap='gray')\n",
    "    \n",
    "#     plt.show()\n",
    "display.clear_output(wait=True)\n",
    "display.display(plt.gcf()) \n"
   ]
  },
  {
   "cell_type": "code",
   "execution_count": 347,
   "metadata": {},
   "outputs": [
    {
     "data": {
      "image/png": "[encoded data removed]",
      "text/plain": [
       "<Figure size 432x288 with 2 Axes>"
      ]
     },
     "metadata": {},
     "output_type": "display_data"
    },
    {
     "data": {
      "image/png": "[encoded data removed]",
      "text/plain": [
       "<Figure size 432x288 with 2 Axes>"
      ]
     },
     "metadata": {
      "needs_background": "light"
     },
     "output_type": "display_data"
    }
   ],
   "source": [
    "\n",
    "file = os.listdir(DIR_NAME)[60]#あるエピソード取り出す\n",
    "\n",
    "obs_data3 = np.load(DIR_NAME + file)['obs']#あるエピソードの観測データを取り出す(300,64,64,3)\n",
    "obs = obs_data3[178]#あるエピソードの１時間ステップの観測データを取り出す(1,64,64,3)\n",
    "\n",
    "z_decoded3 = vae1.full_model.predict(np.array([obs]))[0]\n",
    "    \n",
    "plt.subplot(121)\n",
    "plt.imshow( obs[:,:,0],cmap='gray')\n",
    "plt.subplot(122)\n",
    "plt.imshow( z_decoded3[:,:,0],cmap='gray')\n",
    "    \n",
    "#     plt.show()\n",
    "display.clear_output(wait=True)\n",
    "display.display(plt.gcf()) \n"
   ]
  },
  {
   "cell_type": "code",
   "execution_count": 348,
   "metadata": {},
   "outputs": [
    {
     "data": {
      "image/png": "[encoded data removed]",
      "text/plain": [
       "<Figure size 432x288 with 2 Axes>"
      ]
     },
     "metadata": {},
     "output_type": "display_data"
    },
    {
     "data": {
      "image/png": "[encoded data removed]",
      "text/plain": [
       "<Figure size 432x288 with 2 Axes>"
      ]
     },
     "metadata": {
      "needs_background": "light"
     },
     "output_type": "display_data"
    }
   ],
   "source": [
    "\n",
    "file = os.listdir(DIR_NAME)[60]#あるエピソード取り出す\n",
    "\n",
    "obs_data3 = np.load(DIR_NAME + file)['obs']#あるエピソードの観測データを取り出す(300,64,64,3)\n",
    "obs = obs_data3[178]#あるエピソードの１時間ステップの観測データを取り出す(1,64,64,3)\n",
    "\n",
    "z_decoded3 = vae1.full_model.predict(np.array([obs]))[0]\n",
    "    \n",
    "plt.subplot(121)\n",
    "plt.imshow( obs[:,:,0],cmap='gray')\n",
    "plt.subplot(122)\n",
    "plt.imshow( z_decoded3[:,:,0],cmap='gray')\n",
    "    \n",
    "#     plt.show()\n",
    "display.clear_output(wait=True)\n",
    "display.display(plt.gcf()) \n"
   ]
  },
  {
   "cell_type": "code",
   "execution_count": 349,
   "metadata": {},
   "outputs": [
    {
     "data": {
      "image/png": "[encoded data removed]",
      "text/plain": [
       "<Figure size 432x288 with 2 Axes>"
      ]
     },
     "metadata": {},
     "output_type": "display_data"
    },
    {
     "data": {
      "image/png": "[encoded data removed]",
      "text/plain": [
       "<Figure size 432x288 with 2 Axes>"
      ]
     },
     "metadata": {
      "needs_background": "light"
     },
     "output_type": "display_data"
    }
   ],
   "source": [
    "from vae.arch_custommazegray2z32k3conv4 import VAE\n",
    "vae1 = VAE()\n",
    "vae1.set_weights('./vae/vae_weights/weights_custommaze_gray25000.5z32k3conv3r100000.ckpt')\n",
    "#conv3って書いてあるけどconv4\n",
    "file = os.listdir(DIR_NAME)[60]#あるエピソード取り出す\n",
    "\n",
    "obs_data3 = np.load(DIR_NAME + file)['obs']#あるエピソードの観測データを取り出す(300,64,64,3)\n",
    "obs = obs_data3[178]#あるエピソードの１時間ステップの観測データを取り出す(1,64,64,3)\n",
    "\n",
    "z_decoded3 = vae1.full_model.predict(np.array([obs]))[0]\n",
    "    \n",
    "plt.subplot(121)\n",
    "plt.imshow( obs[:,:,0],cmap='gray')\n",
    "plt.subplot(122)\n",
    "plt.imshow( z_decoded3[:,:,0],cmap='gray')\n",
    "    \n",
    "#     plt.show()\n",
    "display.clear_output(wait=True)\n",
    "display.display(plt.gcf()) \n"
   ]
  },
  {
   "cell_type": "code",
   "execution_count": 350,
   "metadata": {},
   "outputs": [],
   "source": [
    "\n",
    "# file = os.listdir(DIR_NAME)[20]#あるエピソード取り出す\n",
    "# obs_data3 = np.load(DIR_NAME + file)['obs']#あるエピソードの観測データを取り出す(300,64,64,3)\n",
    "\n",
    "# fig_width = 14  # Adjust this value as needed\n",
    "# fig_height = 7  # Adjust this value as needed\n",
    "\n",
    "# # Initialize the figure with the desired size\n",
    "# plt.figure(figsize=(fig_width, fig_height))\n",
    "# for idx in range(300,900,2):\n",
    "#     plt.gca().cla() \n",
    "    \n",
    "#     obs = obs_data3[idx]\n",
    "#     z_decoded1 = vae1.full_model.predict(np.array([obs]))[0]\n",
    "#     # z_decoded1を保存するファイル名\n",
    "#     # save_file = f'./vae/decoded1/z_decoded1_data{idx}.npz'\n",
    "#     # z_decoded1をNumPyの配列に変換\n",
    "#     # z_decoded1_array = np.array(z_decoded1)\n",
    "#     # # z_decoded1をnpz形式で保存\n",
    "#     # np.savez(save_file, z_decoded1_array=z_decoded1_array)\n",
    "#     plt.subplot(121)\n",
    "#     plt.imshow( obs[:,:,0])\n",
    "#     plt.subplot(122)\n",
    "#     plt.imshow( z_decoded1[:,:,0])\n",
    "    \n",
    "# #     plt.show()\n",
    "#     display.clear_output(wait=True)\n",
    "#     display.display(plt.gcf()) \n",
    "#     print(idx)\n",
    "    \n",
    "   \n",
    "\n",
    "\n",
    "\n"
   ]
  },
  {
   "cell_type": "code",
   "execution_count": 351,
   "metadata": {},
   "outputs": [],
   "source": [
    "# filelist = os.listdir('./vae/decoded1')\n",
    "# filelist = [x for x in filelist if (x != '.DS_Store' and x!='.gitignore')]\n",
    "# # filelist.sort()\n",
    "# length_filelist = len(filelist)\n",
    "# sorted_names = sorted(filelist, key=lambda name: int(''.join(filter(str.isdigit, name))))"
   ]
  },
  {
   "cell_type": "code",
   "execution_count": 352,
   "metadata": {},
   "outputs": [],
   "source": [
    "import time"
   ]
  },
  {
   "cell_type": "code",
   "execution_count": 353,
   "metadata": {},
   "outputs": [],
   "source": [
    "# im_datas=[]\n",
    "# for i in range(300):\n",
    "#     im_data = np.load(f'./vae/decoded1/{sorted_names[i]}')\n",
    "    \n",
    "#     im_datas.append(im_data['z_decoded1_array'])\n",
    "    \n",
    "#     plt.gca().cla() \n",
    "#     plt.imshow(im_datas[i])\n",
    "    \n",
    "    \n",
    "#     time.sleep(0.3)\n",
    "#     display.clear_output(wait=True)\n",
    "#     display.display(plt.gcf()) \n",
    "    \n",
    "#     print(i)"
   ]
  },
  {
   "cell_type": "code",
   "execution_count": 354,
   "metadata": {},
   "outputs": [],
   "source": [
    "# ### output from the full_model\n",
    "# DIR_NAME = './data/custom2dmaze_rollout3/'\n",
    "# file = os.listdir(DIR_NAME)[17]#あるエピソード取り出す\n",
    "# obs_data = np.load(DIR_NAME + file)['obs']#あるエピソードの観測データをとりだす(300,64,64,3)\n",
    "\n",
    "# obs = obs_data[4]#1ステップ時間の観測(1,64,64,3)\n",
    "\n",
    "# reconstruction = vae1.full_model.predict(np.array([obs]))[0]\n",
    "\n",
    "# ax1 = plt.subplot(121)\n",
    "# plt.imshow( obs[:,:,0])\n",
    "# ax1.axis('off')\n",
    "# ax1.text(0.5,-0.1, \"INPUT\", size=12, ha=\"center\", \n",
    "#          transform=ax1.transAxes)\n",
    "\n",
    "# ax2 = plt.subplot(122)\n",
    "# plt.imshow( reconstruction)\n",
    "# ax2.axis('off')\n",
    "# ax2.text(0.5,-0.1, \"OUTPUT\", size=12, ha=\"center\", \n",
    "#          transform=ax2.transAxes);\n"
   ]
  },
  {
   "cell_type": "code",
   "execution_count": 355,
   "metadata": {},
   "outputs": [
    {
     "data": {
      "text/plain": [
       "(1, 80, 80, 1)"
      ]
     },
     "execution_count": 355,
     "metadata": {},
     "output_type": "execute_result"
    }
   ],
   "source": [
    "np.array([obs]).shape"
   ]
  },
  {
   "cell_type": "code",
   "execution_count": 356,
   "metadata": {},
   "outputs": [
    {
     "name": "stdout",
     "output_type": "stream",
     "text": [
      "mu = [-0.0114 -0.0009  0.0779 -0.1566 -0.0339 -0.0104 -0.0162  0.038  -0.0839\n",
      " -0.0291  0.0306 -0.0989  0.339  -0.0336 -0.126   0.0177  0.1752 -0.3862\n",
      "  0.0559  0.001   0.0136 -0.0098  0.0398  0.0076 -0.015  -0.0428 -0.0162\n",
      " -0.0283 -0.1069 -0.0097 -0.3289 -0.108 ]\n",
      "log_var = [-0.0367 -1.3798  0.0067 -1.661  -0.089  -0.075   0.0139 -0.0225 -0.13\n",
      " -0.0035 -0.0292 -1.1076 -1.0759  0.0155 -1.8996 -0.0353 -1.2589 -1.5038\n",
      " -0.0272 -0.058  -0.0572 -0.648  -0.0942 -0.0495  0.0119 -0.0219 -1.7791\n",
      " -1.5182 -1.1649 -0.0114 -1.5992 -1.3222]\n",
      "z = [[ 0.0163 -0.4551 -2.0059  0.2882  0.3659 -1.3432 -0.1335  1.1053  0.4051\n",
      "   0.75   -0.5666 -0.2529  0.7386  0.2695 -0.3515  0.4542 -0.8644 -1.0552\n",
      "  -0.5131  0.5457  0.0502 -0.9907 -0.3072  0.5238  1.1827  0.9637  0.2125\n",
      "   0.6365 -0.342  -0.6841 -0.671  -0.1826]]\n"
     ]
    }
   ],
   "source": [
    "mus, log_vars, _  = vae1.encoder.predict(np.array([obs]))#特定の観測　(1, 64, 64, 3)を与える\n",
    "mu = mus[0]\n",
    "log_var = log_vars[0]\n",
    "print(\"mu = \" + str(mu))\n",
    "print(\"log_var = \" + str(log_var))\n",
    "\n",
    "encoded_z = vae1.encoder.predict(np.array([obs]))[2]\n",
    "print(\"z = \" + str(encoded_z))"
   ]
  },
  {
   "cell_type": "code",
   "execution_count": 357,
   "metadata": {},
   "outputs": [
    {
     "name": "stdout",
     "output_type": "stream",
     "text": [
      "z = [array([[-0.0114, -0.0009,  0.0779, -0.1566, -0.0339, -0.0104, -0.0162,\n",
      "         0.038 , -0.0839, -0.0291,  0.0306, -0.0989,  0.339 , -0.0336,\n",
      "        -0.126 ,  0.0177,  0.1752, -0.3862,  0.0559,  0.001 ,  0.0136,\n",
      "        -0.0098,  0.0398,  0.0076, -0.015 , -0.0428, -0.0162, -0.0283,\n",
      "        -0.1069, -0.0097, -0.3289, -0.108 ]], dtype=float32), array([[-0.0367, -1.3798,  0.0067, -1.661 , -0.089 , -0.075 ,  0.0139,\n",
      "        -0.0225, -0.13  , -0.0035, -0.0292, -1.1076, -1.0759,  0.0155,\n",
      "        -1.8996, -0.0353, -1.2589, -1.5038, -0.0272, -0.058 , -0.0572,\n",
      "        -0.648 , -0.0942, -0.0495,  0.0119, -0.0219, -1.7791, -1.5182,\n",
      "        -1.1649, -0.0114, -1.5992, -1.3222]], dtype=float32), array([[-0.3907, -0.4353, -0.2176, -0.6193,  0.2799,  1.1202,  1.9273,\n",
      "         0.0719, -0.3902, -1.0546, -0.8947,  0.5548,  1.1174,  0.5957,\n",
      "        -0.2203,  0.7583, -0.5139,  0.6286, -0.3826,  0.1605,  0.6281,\n",
      "         0.4514, -1.3776, -0.1844, -0.8139, -0.925 ,  0.0367, -0.7293,\n",
      "         0.7242, -1.1714, -1.6409,  0.4269]], dtype=float32)]\n"
     ]
    }
   ],
   "source": [
    "# mus, log_vars, _  = vae1.encoder.predict(np.array([obs]))#特定の観測　(1, 64, 64, 3)を与える\n",
    "# mu = mus[0]\n",
    "# log_var = log_vars[0]\n",
    "# print(\"mu = \" + str(mu))\n",
    "# print(\"log_var = \" + str(log_var))\n",
    "\n",
    "encoded_z = vae1.encoder.predict(np.array([obs]))\n",
    "print(\"z = \" + str(encoded_z))"
   ]
  },
  {
   "cell_type": "code",
   "execution_count": 358,
   "metadata": {},
   "outputs": [
    {
     "name": "stdout",
     "output_type": "stream",
     "text": [
      "[array([[-0.0114, -0.0009,  0.0779, -0.1566, -0.0339, -0.0104, -0.0162,\n",
      "         0.038 , -0.0839, -0.0291,  0.0306, -0.0989,  0.339 , -0.0336,\n",
      "        -0.126 ,  0.0177,  0.1752, -0.3862,  0.0559,  0.001 ,  0.0136,\n",
      "        -0.0098,  0.0398,  0.0076, -0.015 , -0.0428, -0.0162, -0.0283,\n",
      "        -0.1069, -0.0097, -0.3289, -0.108 ]], dtype=float32), array([[-0.0367, -1.3798,  0.0067, -1.661 , -0.089 , -0.075 ,  0.0139,\n",
      "        -0.0225, -0.13  , -0.0035, -0.0292, -1.1076, -1.0759,  0.0155,\n",
      "        -1.8996, -0.0353, -1.2589, -1.5038, -0.0272, -0.058 , -0.0572,\n",
      "        -0.648 , -0.0942, -0.0495,  0.0119, -0.0219, -1.7791, -1.5182,\n",
      "        -1.1649, -0.0114, -1.5992, -1.3222]], dtype=float32), array([[ 0.1229, -0.1127, -0.1922, -0.0518,  1.1721, -0.7176,  1.3033,\n",
      "        -2.2083,  0.3316,  1.1079,  0.5087, -1.3458,  0.6818, -1.0406,\n",
      "        -0.5176,  1.4503,  0.6614, -0.1657,  0.7272, -1.3063, -0.4433,\n",
      "         0.7846,  0.7415, -0.1157,  0.388 , -1.0424,  0.4887,  0.0445,\n",
      "        -0.6586, -1.561 , -0.3432, -0.0307]], dtype=float32)]\n"
     ]
    }
   ],
   "source": [
    "print(vae1.encoder.predict(np.array([obs])))"
   ]
  },
  {
   "cell_type": "code",
   "execution_count": 359,
   "metadata": {},
   "outputs": [
    {
     "name": "stdout",
     "output_type": "stream",
     "text": [
      "z = [array([[-0.0114, -0.0009,  0.0779, -0.1566, -0.0339, -0.0104, -0.0162,\n",
      "         0.038 , -0.0839, -0.0291,  0.0306, -0.0989,  0.339 , -0.0336,\n",
      "        -0.126 ,  0.0177,  0.1752, -0.3862,  0.0559,  0.001 ,  0.0136,\n",
      "        -0.0098,  0.0398,  0.0076, -0.015 , -0.0428, -0.0162, -0.0283,\n",
      "        -0.1069, -0.0097, -0.3289, -0.108 ]], dtype=float32), array([[-0.0367, -1.3798,  0.0067, -1.661 , -0.089 , -0.075 ,  0.0139,\n",
      "        -0.0225, -0.13  , -0.0035, -0.0292, -1.1076, -1.0759,  0.0155,\n",
      "        -1.8996, -0.0353, -1.2589, -1.5038, -0.0272, -0.058 , -0.0572,\n",
      "        -0.648 , -0.0942, -0.0495,  0.0119, -0.0219, -1.7791, -1.5182,\n",
      "        -1.1649, -0.0114, -1.5992, -1.3222]], dtype=float32), array([[-0.5651,  0.3036,  0.6621,  0.4534, -0.4861, -1.5258, -0.1714,\n",
      "        -0.5174, -1.1573,  0.3346,  1.5441, -0.4672,  0.3577, -1.3525,\n",
      "        -0.5883,  2.6264, -0.1549, -0.2956, -1.0256, -0.8171,  0.3992,\n",
      "        -1.2681, -1.6668, -0.005 , -0.2686, -0.8231,  0.8058,  0.3848,\n",
      "        -0.1682, -0.7626, -0.7942,  0.4213]], dtype=float32)]\n"
     ]
    }
   ],
   "source": [
    "encoded_z = vae1.encoder.predict(np.array([obs]))\n",
    "print(\"z = \" + str(encoded_z))"
   ]
  },
  {
   "cell_type": "code",
   "execution_count": 360,
   "metadata": {},
   "outputs": [
    {
     "name": "stdout",
     "output_type": "stream",
     "text": [
      "informative dimensions:\n"
     ]
    },
    {
     "data": {
      "text/plain": [
       "array([ 1,  3,  8, 11, 12, 14, 16, 17, 21, 26, 27, 28, 30, 31])"
      ]
     },
     "execution_count": 360,
     "metadata": {},
     "output_type": "execute_result"
    },
    {
     "data": {
      "image/png": "[encoded data removed]",
      "text/plain": [
       "<Figure size 432x288 with 1 Axes>"
      ]
     },
     "metadata": {
      "needs_background": "light"
     },
     "output_type": "display_data"
    }
   ],
   "source": [
    "plt.plot(mu);\n",
    "plt.plot(log_var);\n",
    "print('informative dimensions:')\n",
    "hot_zs1 = np.where(abs(log_var) > 0.1)[0]\n",
    "hot_zs1"
   ]
  },
  {
   "cell_type": "code",
   "execution_count": 361,
   "metadata": {},
   "outputs": [
    {
     "name": "stdout",
     "output_type": "stream",
     "text": [
      "informative dimensions:\n"
     ]
    },
    {
     "data": {
      "text/plain": [
       "array([], dtype=int64)"
      ]
     },
     "execution_count": 361,
     "metadata": {},
     "output_type": "execute_result"
    },
    {
     "data": {
      "image/png": "[encoded data removed]",
      "text/plain": [
       "<Figure size 432x288 with 1 Axes>"
      ]
     },
     "metadata": {
      "needs_background": "light"
     },
     "output_type": "display_data"
    }
   ],
   "source": [
    "plt.plot(mu);\n",
    "plt.plot(log_var);\n",
    "print('informative dimensions:')\n",
    "hot_zs = np.where(abs(log_var) > 2)[0]\n",
    "hot_zs"
   ]
  },
  {
   "cell_type": "code",
   "execution_count": 362,
   "metadata": {},
   "outputs": [],
   "source": [
    "file1 = os.listdir(DIR_NAME)[100]\n",
    "obs_data1 = np.load(DIR_NAME + file)['obs']\n",
    "file2 = os.listdir(DIR_NAME)[140]\n",
    "obs_data2 = np.load(DIR_NAME + file)['obs']"
   ]
  },
  {
   "cell_type": "code",
   "execution_count": 363,
   "metadata": {},
   "outputs": [
    {
     "data": {
      "text/plain": [
       "(1, 32)"
      ]
     },
     "execution_count": 363,
     "metadata": {},
     "output_type": "execute_result"
    }
   ],
   "source": [
    "a=vae1.encoder.predict(np.array([obs_data1[20]]))[0]\n",
    "a.shape"
   ]
  },
  {
   "cell_type": "code",
   "execution_count": null,
   "metadata": {},
   "outputs": [],
   "source": []
  },
  {
   "cell_type": "code",
   "execution_count": 364,
   "metadata": {},
   "outputs": [
    {
     "name": "stdout",
     "output_type": "stream",
     "text": [
      "WARNING:tensorflow:Unresolved object in checkpoint: (root).optimizer.iter\n",
      "WARNING:tensorflow:Unresolved object in checkpoint: (root).optimizer.beta_1\n",
      "WARNING:tensorflow:Unresolved object in checkpoint: (root).optimizer.beta_2\n",
      "WARNING:tensorflow:Unresolved object in checkpoint: (root).optimizer.decay\n",
      "WARNING:tensorflow:Unresolved object in checkpoint: (root).optimizer.learning_rate\n",
      "WARNING:tensorflow:A checkpoint was restored (e.g. tf.train.Checkpoint.restore or tf.keras.Model.load_weights) but not all checkpointed values were used. See above for specific issues. Use expect_partial() on the load status object, e.g. tf.train.Checkpoint.restore(...).expect_partial(), to silence these warnings, or use assert_consumed() to make the check explicit. See https://www.tensorflow.org/guide/checkpoint#loading_mechanics for details.\n"
     ]
    },
    {
     "data": {
      "image/png": "[encoded data removed]",
      "text/plain": [
       "<Figure size 2304x2304 with 25 Axes>"
      ]
     },
     "metadata": {
      "needs_background": "light"
     },
     "output_type": "display_data"
    }
   ],
   "source": [
    "top_left = vae1.encoder.predict(np.array([obs_data1[20]]))[2][0]\n",
    "top_right = vae1.encoder.predict(np.array([obs_data1[60]]))[2][0]\n",
    "bottom_left = vae1.encoder.predict(np.array([obs_data2[80]]))[2][0]\n",
    "sample_z = vae1.encoder.predict(np.array([obs_data[60]]))[2][0]\n",
    "\n",
    "fig, axes = plt.subplots(nrows=5, ncols=5, figsize=(32,32), sharex=True, sharey=True)\n",
    "plt.subplots_adjust(hspace = 0.4)\n",
    "\n",
    "for x in range(5):\n",
    "    for y in range(5):\n",
    "        \n",
    "        z = sample_z.copy()\n",
    "\n",
    "#         z = top_left + (top_right - top_left) * x/8 + (bottom_left - top_left) * y/8\n",
    "        z[11] = (x-2)\n",
    "        z[8] = (y-2)\n",
    "        \n",
    "        decoded_obs = vae1.decoder.predict(np.array([z]))[0]\n",
    "        \n",
    "        axes[x,y].set_axis_off()\n",
    "        \n",
    "        axes[x,y].imshow(decoded_obs[:,:,0])\n",
    "        \n",
    "        axes[x,y].text(0.5,-0.1, 'z[11] ' + str(np.round(z[11],2)), size=20, ha=\"center\", \n",
    "                       transform=axes[x,y].transAxes)\n",
    "        \n",
    "        axes[x,y].text(0.5,-0.2, 'z[8] = ' + str(np.round(z[8],2)), size=20, ha=\"center\", \n",
    "                       transform=axes[x,y].transAxes)\n",
    "    \n",
    "\n",
    "plt.show()"
   ]
  },
  {
   "cell_type": "code",
   "execution_count": 365,
   "metadata": {},
   "outputs": [
    {
     "data": {
      "image/png": "[encoded data removed]",
      "text/plain": [
       "<Figure size 2304x2304 with 25 Axes>"
      ]
     },
     "metadata": {
      "needs_background": "light"
     },
     "output_type": "display_data"
    }
   ],
   "source": [
    "top_left = vae1.encoder.predict(np.array([obs_data1[20]]))[2][0]\n",
    "top_right = vae1.encoder.predict(np.array([obs_data1[60]]))[2][0]\n",
    "bottom_left = vae1.encoder.predict(np.array([obs_data1[80]]))[2][0]\n",
    "\n",
    "sample_z = vae1.encoder.predict(np.array([obs_data[60]]))[2][0]\n",
    "\n",
    "fig, axes = plt.subplots(nrows=5, ncols=5, figsize=(32,32), sharex=True, sharey=True)\n",
    "plt.subplots_adjust(hspace = 0.4)\n",
    "\n",
    "\n",
    "for x in range(5):\n",
    "    for y in range(5):\n",
    "        \n",
    "        z = sample_z.copy()\n",
    "\n",
    "#         z = top_left + (top_right - top_left) * x/8 + (bottom_left - top_left) * y/8\n",
    "        z[25] = (x-2)\n",
    "        z[11] = (y-2)\n",
    "        \n",
    "        decoded_obs = vae1.decoder.predict(np.array([z]))[0]\n",
    "        \n",
    "        axes[x,y].set_axis_off()\n",
    "        \n",
    "        axes[x,y].imshow(decoded_obs[:,:,0])\n",
    "        \n",
    "        axes[x,y].text(0.5,-0.1, 'z[25] ' + str(np.round(z[25],2)), size=20, ha=\"center\", \n",
    "                       transform=axes[x,y].transAxes)\n",
    "        \n",
    "        axes[x,y].text(0.5,-0.2, 'z[11] = ' + str(np.round(z[11],2)), size=20, ha=\"center\", \n",
    "                       transform=axes[x,y].transAxes)\n",
    "    \n",
    "\n",
    "plt.show()"
   ]
  },
  {
   "cell_type": "code",
   "execution_count": 366,
   "metadata": {},
   "outputs": [
    {
     "ename": "NameError",
     "evalue": "name 'vae3' is not defined",
     "output_type": "error",
     "traceback": [
      "\u001b[0;31m---------------------------------------------------------------------------\u001b[0m",
      "\u001b[0;31mNameError\u001b[0m                                 Traceback (most recent call last)",
      "\u001b[0;32m<ipython-input-366-a35e837cb98d>\u001b[0m in \u001b[0;36m<module>\u001b[0;34m\u001b[0m\n\u001b[0;32m----> 1\u001b[0;31m \u001b[0mtop_left\u001b[0m \u001b[0;34m=\u001b[0m \u001b[0mvae3\u001b[0m\u001b[0;34m.\u001b[0m\u001b[0mencoder\u001b[0m\u001b[0;34m.\u001b[0m\u001b[0mpredict\u001b[0m\u001b[0;34m(\u001b[0m\u001b[0mnp\u001b[0m\u001b[0;34m.\u001b[0m\u001b[0marray\u001b[0m\u001b[0;34m(\u001b[0m\u001b[0;34m[\u001b[0m\u001b[0mobs_data1\u001b[0m\u001b[0;34m[\u001b[0m\u001b[0;36m20\u001b[0m\u001b[0;34m]\u001b[0m\u001b[0;34m]\u001b[0m\u001b[0;34m)\u001b[0m\u001b[0;34m)\u001b[0m\u001b[0;34m[\u001b[0m\u001b[0;36m2\u001b[0m\u001b[0;34m]\u001b[0m\u001b[0;34m[\u001b[0m\u001b[0;36m0\u001b[0m\u001b[0;34m]\u001b[0m\u001b[0;34m\u001b[0m\u001b[0;34m\u001b[0m\u001b[0m\n\u001b[0m\u001b[1;32m      2\u001b[0m \u001b[0mtop_right\u001b[0m \u001b[0;34m=\u001b[0m \u001b[0mvae3\u001b[0m\u001b[0;34m.\u001b[0m\u001b[0mencoder\u001b[0m\u001b[0;34m.\u001b[0m\u001b[0mpredict\u001b[0m\u001b[0;34m(\u001b[0m\u001b[0mnp\u001b[0m\u001b[0;34m.\u001b[0m\u001b[0marray\u001b[0m\u001b[0;34m(\u001b[0m\u001b[0;34m[\u001b[0m\u001b[0mobs_data1\u001b[0m\u001b[0;34m[\u001b[0m\u001b[0;36m60\u001b[0m\u001b[0;34m]\u001b[0m\u001b[0;34m]\u001b[0m\u001b[0;34m)\u001b[0m\u001b[0;34m)\u001b[0m\u001b[0;34m[\u001b[0m\u001b[0;36m2\u001b[0m\u001b[0;34m]\u001b[0m\u001b[0;34m[\u001b[0m\u001b[0;36m0\u001b[0m\u001b[0;34m]\u001b[0m\u001b[0;34m\u001b[0m\u001b[0;34m\u001b[0m\u001b[0m\n\u001b[1;32m      3\u001b[0m \u001b[0mbottom_left\u001b[0m \u001b[0;34m=\u001b[0m \u001b[0mvae3\u001b[0m\u001b[0;34m.\u001b[0m\u001b[0mencoder\u001b[0m\u001b[0;34m.\u001b[0m\u001b[0mpredict\u001b[0m\u001b[0;34m(\u001b[0m\u001b[0mnp\u001b[0m\u001b[0;34m.\u001b[0m\u001b[0marray\u001b[0m\u001b[0;34m(\u001b[0m\u001b[0;34m[\u001b[0m\u001b[0mobs_data2\u001b[0m\u001b[0;34m[\u001b[0m\u001b[0;36m80\u001b[0m\u001b[0;34m]\u001b[0m\u001b[0;34m]\u001b[0m\u001b[0;34m)\u001b[0m\u001b[0;34m)\u001b[0m\u001b[0;34m[\u001b[0m\u001b[0;36m2\u001b[0m\u001b[0;34m]\u001b[0m\u001b[0;34m[\u001b[0m\u001b[0;36m0\u001b[0m\u001b[0;34m]\u001b[0m\u001b[0;34m\u001b[0m\u001b[0;34m\u001b[0m\u001b[0m\n\u001b[1;32m      4\u001b[0m \u001b[0;34m\u001b[0m\u001b[0m\n\u001b[1;32m      5\u001b[0m \u001b[0msample_z\u001b[0m \u001b[0;34m=\u001b[0m \u001b[0mvae3\u001b[0m\u001b[0;34m.\u001b[0m\u001b[0mencoder\u001b[0m\u001b[0;34m.\u001b[0m\u001b[0mpredict\u001b[0m\u001b[0;34m(\u001b[0m\u001b[0mnp\u001b[0m\u001b[0;34m.\u001b[0m\u001b[0marray\u001b[0m\u001b[0;34m(\u001b[0m\u001b[0;34m[\u001b[0m\u001b[0mobs_data\u001b[0m\u001b[0;34m[\u001b[0m\u001b[0;36m60\u001b[0m\u001b[0;34m]\u001b[0m\u001b[0;34m]\u001b[0m\u001b[0;34m)\u001b[0m\u001b[0;34m)\u001b[0m\u001b[0;34m[\u001b[0m\u001b[0;36m2\u001b[0m\u001b[0;34m]\u001b[0m\u001b[0;34m[\u001b[0m\u001b[0;36m0\u001b[0m\u001b[0;34m]\u001b[0m\u001b[0;34m\u001b[0m\u001b[0;34m\u001b[0m\u001b[0m\n",
      "\u001b[0;31mNameError\u001b[0m: name 'vae3' is not defined"
     ]
    }
   ],
   "source": [
    "top_left = vae3.encoder.predict(np.array([obs_data1[20]]))[2][0]\n",
    "top_right = vae3.encoder.predict(np.array([obs_data1[60]]))[2][0]\n",
    "bottom_left = vae3.encoder.predict(np.array([obs_data2[80]]))[2][0]\n",
    "\n",
    "sample_z = vae3.encoder.predict(np.array([obs_data[60]]))[2][0]\n",
    "\n",
    "fig, axes = plt.subplots(nrows=5, ncols=5, figsize=(32,32), sharex=True, sharey=True)\n",
    "plt.subplots_adjust(hspace = 0.4)\n",
    "\n",
    "for x in range(5):\n",
    "    for y in range(5):\n",
    "        \n",
    "        z = sample_z.copy()\n",
    "\n",
    "#         z = top_left + (top_right - top_left) * x/8 + (bottom_left - top_left) * y/8\n",
    "        z[13] = (x-2)\n",
    "        z[22] = (y-2)\n",
    "        \n",
    "        decoded_obs = vae3.decoder.predict(np.array([z]))[0]\n",
    "        \n",
    "        axes[x,y].set_axis_off()\n",
    "        \n",
    "        axes[x,y].imshow(decoded_obs)\n",
    "        \n",
    "        axes[x,y].text(0.5,-0.1, 'z[13] ' + str(np.round(z[13],2)), size=20, ha=\"center\", \n",
    "                       transform=axes[x,y].transAxes)\n",
    "        \n",
    "        axes[x,y].text(0.5,-0.2, 'z[22] = ' + str(np.round(z[22],2)), size=20, ha=\"center\", \n",
    "                       transform=axes[x,y].transAxes)\n",
    "    \n",
    "\n",
    "plt.show()"
   ]
  },
  {
   "cell_type": "code",
   "execution_count": null,
   "metadata": {},
   "outputs": [
    {
     "data": {
      "text/plain": [
       "array([[[0.5002, 0.4998, 0.4999],\n",
       "        [0.4998, 0.4996, 0.4999],\n",
       "        [0.4997, 0.4998, 0.5004],\n",
       "        ...,\n",
       "        [0.5004, 0.5001, 0.5001],\n",
       "        [0.5005, 0.5003, 0.5003],\n",
       "        [0.4998, 0.5001, 0.4998]],\n",
       "\n",
       "       [[0.5003, 0.4999, 0.5002],\n",
       "        [0.5001, 0.5002, 0.4997],\n",
       "        [0.5   , 0.4998, 0.4998],\n",
       "        ...,\n",
       "        [0.5003, 0.5   , 0.4998],\n",
       "        [0.5002, 0.5002, 0.5003],\n",
       "        [0.4999, 0.5   , 0.4998]],\n",
       "\n",
       "       [[0.5001, 0.4999, 0.5001],\n",
       "        [0.4998, 0.4996, 0.5   ],\n",
       "        [0.5002, 0.4996, 0.5   ],\n",
       "        ...,\n",
       "        [0.4998, 0.5005, 0.5   ],\n",
       "        [0.5001, 0.5004, 0.4999],\n",
       "        [0.4999, 0.4997, 0.5002]],\n",
       "\n",
       "       ...,\n",
       "\n",
       "       [[0.4996, 0.5003, 0.5003],\n",
       "        [0.4998, 0.5001, 0.499 ],\n",
       "        [0.4998, 0.5003, 0.5006],\n",
       "        ...,\n",
       "        [0.5006, 0.4993, 0.4987],\n",
       "        [0.5002, 0.5013, 0.5008],\n",
       "        [0.5001, 0.5001, 0.4993]],\n",
       "\n",
       "       [[0.5004, 0.4993, 0.4997],\n",
       "        [0.4996, 0.5   , 0.4994],\n",
       "        [0.5009, 0.4992, 0.5004],\n",
       "        ...,\n",
       "        [0.4995, 0.4999, 0.4996],\n",
       "        [0.5007, 0.4989, 0.5009],\n",
       "        [0.4995, 0.4997, 0.4989]],\n",
       "\n",
       "       [[0.5003, 0.5001, 0.5002],\n",
       "        [0.4999, 0.5002, 0.4997],\n",
       "        [0.5   , 0.4998, 0.5   ],\n",
       "        ...,\n",
       "        [0.4998, 0.4998, 0.4998],\n",
       "        [0.4996, 0.5002, 0.4996],\n",
       "        [0.4999, 0.5   , 0.5001]]], dtype=float32)"
      ]
     },
     "execution_count": 209,
     "metadata": {},
     "output_type": "execute_result"
    }
   ],
   "source": [
    "decoded_obs"
   ]
  },
  {
   "cell_type": "code",
   "execution_count": null,
   "metadata": {},
   "outputs": [],
   "source": [
    "def play_with_z(z0 = sample_z[0]\n",
    "                ,z2 = sample_z[2]\n",
    "                ,z4 = sample_z[4]\n",
    "                ,z5 = sample_z[5]\n",
    "                ,z6 = sample_z[6]\n",
    "                ,z7 = sample_z[7]\n",
    "                ,z8 = sample_z[8]\n",
    "                ,z10 = sample_z[10]\n",
    "                ,z13 = sample_z[13]\n",
    "                ,z15 = sample_z[15]\n",
    "                ,z24= sample_z[24]\n",
    "                ,z25= sample_z[25]\n",
    "                ,z26= sample_z[26]\n",
    "                ,z27= sample_z[27]\n",
    "                ):\n",
    "    z = sample_z.copy()\n",
    "    z[0] = z0\n",
    "    z[2] = z2\n",
    "    z[4] = z4\n",
    "    z[5] = z5\n",
    "    z[6] = z6\n",
    "    z[7] = z7\n",
    "    z[8] = z8\n",
    "    z[10] = z10\n",
    "    z[13] = z13\n",
    "    z[15] = z15\n",
    "    z[24] = z24\n",
    "    z[25] = z25\n",
    "    z[26] = z26\n",
    "    z[27] = z27\n",
    "    \n",
    "    decoded_obs = vae1.decoder.predict(np.array([z]))[0]\n",
    "    plt.gca().cla() \n",
    "    plt.imshow( decoded_obs)"
   ]
  },
  {
   "cell_type": "code",
   "execution_count": null,
   "metadata": {},
   "outputs": [
    {
     "data": {
      "application/vnd.jupyter.widget-view+json": {
       "model_id": "4a115c7c386945f887f815ad1dcb49de",
       "version_major": 2,
       "version_minor": 0
      },
      "text/plain": [
       "interactive(children=(FloatSlider(value=-0.7293716073036194, description='z0', max=3.0, min=-3.0), FloatSlider…"
      ]
     },
     "metadata": {},
     "output_type": "display_data"
    },
    {
     "data": {
      "text/plain": [
       "<function __main__.play_with_z(z0=-0.7293716, z2=-1.5487323, z4=0.03945683, z5=-0.81787795, z6=0.71974146, z7=0.9768293, z8=0.714299, z10=-0.65156126, z13=-1.3383039, z15=0.9658649, z24=0.70276463, z25=-0.46953642, z26=0.21323122, z27=-0.19417028)>"
      ]
     },
     "execution_count": 211,
     "metadata": {},
     "output_type": "execute_result"
    }
   ],
   "source": [
    "interact(play_with_z\n",
    "        , z0=(-3.0,3.0,0.1)\n",
    "        , z2=(-3.0,3.0,0.1)\n",
    "        , z4=(-3.0,3.0,0.1)\n",
    "        , z5=(-3.0,3.0,0.1)\n",
    "        , z6=(-3.0,3.0,0.1)\n",
    "        , z7=(-3.0,3.0,0.1)\n",
    "        , z8=(-3.0,3.0,0.1)\n",
    "        , z10=(-3.0,3.0,0.1)\n",
    "        , z13=(-3.0,3.0,0.1)\n",
    "        , z15=(-3.0,3.0,0.1)\n",
    "        , z24=(-3.0,3.0,0.1)\n",
    "        , z25=(-3.0,3.0,0.1)\n",
    "        , z26=(-3.0,3.0,0.1)\n",
    "        , z27=(-3.0,3.0,0.1)\n",
    "        )"
   ]
  },
  {
   "cell_type": "code",
   "execution_count": null,
   "metadata": {},
   "outputs": [
    {
     "name": "stdout",
     "output_type": "stream",
     "text": [
      "Model: \"vae_model\"\n",
      "_________________________________________________________________\n",
      "Layer (type)                 Output Shape              Param #   \n",
      "=================================================================\n",
      "encoder (Model)              [(None, 32), (None, 32),  264032    \n",
      "_________________________________________________________________\n",
      "decoder (Model)              (None, 64, 64, 3)         1851939   \n",
      "=================================================================\n",
      "Total params: 2,115,971\n",
      "Trainable params: 2,115,971\n",
      "Non-trainable params: 0\n",
      "_________________________________________________________________\n"
     ]
    }
   ],
   "source": [
    "vae.full_model.summary()"
   ]
  },
  {
   "cell_type": "code",
   "execution_count": null,
   "metadata": {},
   "outputs": [
    {
     "name": "stdout",
     "output_type": "stream",
     "text": [
      "mu = [-0.017   1.0687  0.0068 -0.0073 -0.0004 -0.0213  0.0033  0.024   0.0079\n",
      "  0.0035 -0.0131  0.0011 -0.015  -0.0092  0.0047  0.0038 -0.0126 -0.0023\n",
      "  0.0115 -0.0105  0.0001 -0.8742 -0.0073 -0.0113 -0.0019 -0.009   0.0036\n",
      " -0.0084 -0.0062 -0.0101  0.0079 -0.0058]\n",
      "log_var = [-0.005  -3.2656  0.0012 -0.0064 -0.0832 -0.0067  0.0038  0.0007 -0.0115\n",
      "  0.0037  0.0165 -0.0034 -0.004  -0.0111 -0.0069 -0.0027 -0.0044  0.0076\n",
      " -0.0005 -0.1436  0.0058 -0.9116  0.0098 -0.0025  0.0009  0.006  -0.0126\n",
      " -0.0026 -0.0077 -0.0043 -0.0074  0.0064]\n",
      "z = [[ 0.7776  1.1109 -0.3628 -0.4584  1.5002  1.0793 -1.1028  0.5392 -0.3817\n",
      "  -0.1768 -0.961  -1.1162 -1.0017  0.8331  0.1124 -0.7831  0.4714 -1.2231\n",
      "   1.0771  0.4763  1.2822 -1.8684  0.513  -2.0841  0.3737 -0.3046  0.1204\n",
      "   0.726   1.7934  0.2073  0.259  -0.0664]]\n"
     ]
    }
   ],
   "source": [
    "mus, log_vars, _  = vae2.encoder.predict(np.array([obs]))#特定の観測　(1, 64, 64, 3)を与える\n",
    "mu = mus[0]\n",
    "log_var = log_vars[0]\n",
    "print(\"mu = \" + str(mu))\n",
    "print(\"log_var = \" + str(log_var))\n",
    "\n",
    "encoded_z = vae2.encoder.predict(np.array([obs]))[2]\n",
    "print(\"z = \" + str(encoded_z))"
   ]
  },
  {
   "cell_type": "code",
   "execution_count": null,
   "metadata": {},
   "outputs": [
    {
     "name": "stdout",
     "output_type": "stream",
     "text": [
      "informative dimensions:\n"
     ]
    },
    {
     "data": {
      "text/plain": [
       "array([ 1, 19, 21])"
      ]
     },
     "execution_count": 41,
     "metadata": {},
     "output_type": "execute_result"
    },
    {
     "data": {
      "image/png": "[encoded data removed]",
      "text/plain": [
       "<Figure size 432x288 with 1 Axes>"
      ]
     },
     "metadata": {
      "needs_background": "light"
     },
     "output_type": "display_data"
    }
   ],
   "source": [
    "plt.plot(mu);\n",
    "plt.plot(log_var);\n",
    "print('informative dimensions:')\n",
    "hot_zs1 = np.where(abs(log_var) > 0.1)[0]\n",
    "hot_zs1"
   ]
  }
 ],
 "metadata": {
  "kernelspec": {
   "display_name": "env_GDL2",
   "language": "python",
   "name": "python3"
  },
  "language_info": {
   "codemirror_mode": {
    "name": "ipython",
    "version": 3
   },
   "file_extension": ".py",
   "mimetype": "text/x-python",
   "name": "python",
   "nbconvert_exporter": "python",
   "pygments_lexer": "ipython3",
   "version": "3.6.13"
  }
 },
 "nbformat": 4,
 "nbformat_minor": 2
}
